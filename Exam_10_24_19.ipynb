{
 "cells": [
  {
   "cell_type": "markdown",
   "metadata": {},
   "source": [
    "## Exam"
   ]
  },
  {
   "cell_type": "markdown",
   "metadata": {},
   "source": [
    "    1: Linear regression is a supervised machine learning algorithm:\n",
    "       -true"
   ]
  },
  {
   "cell_type": "markdown",
   "metadata": {},
   "source": [
    "    2: Which method do we use to find the best fit between data and linear regression? \n",
    "        a. least square error \n",
    "        b. maximum likelyhood\n",
    "        c. logerithmic loss\n",
    "        d. both a and b\n",
    "        \n",
    "        a"
   ]
  },
  {
   "cell_type": "markdown",
   "metadata": {},
   "source": [
    "    3: Which of the following is true for residual rules?\n",
    "        a. lower is better\n",
    "        b. higher is better\n",
    "        c. a or b depends on the situation\n",
    "        d. none of these\n",
    "            \n",
    "        a"
   ]
  },
  {
   "cell_type": "markdown",
   "metadata": {},
   "source": [
    "    4: What will happen when you fit degree to polynominal in linear regression?\n",
    "        a: \n",
    "        b: \n",
    "        c: \n",
    "        d: \n",
    "        \n",
    "        based on the previous answers: a\n",
    "        "
   ]
  },
  {
   "cell_type": "markdown",
   "metadata": {},
   "source": [
    "    5: Is it possible to design a linear regression algorithm using neuronal network? \n",
    "        True"
   ]
  },
  {
   "cell_type": "markdown",
   "metadata": {},
   "source": [
    "    6: Which of the following evaluation metrics can be used to evalute a model while modeling a continous output variable\n",
    "        a: AUC-ROC\n",
    "        b: Accuracy\n",
    "        c: LogLoss\n",
    "        d: Mean-Squared-Error\n",
    "        \n",
    "        guessing c"
   ]
  },
  {
   "cell_type": "markdown",
   "metadata": {},
   "source": [
    "    7: Which of the following statement is true about outliers in linear regression?\n",
    "        a: linear regression is sensitive to outliers\n",
    "        b: linear regression is unsensitive to outliers\n",
    "        c: can t say\n",
    "        d. none of those\n",
    "        \n",
    "        a"
   ]
  },
  {
   "cell_type": "markdown",
   "metadata": {},
   "source": [
    "    8: Suppose you plotted a scatter diagram between the residuals and predicted values in linear regression and you found that there is relationship between them. What does this mean?\n",
    "        a: since there is a relationship the model is not good\n",
    "        b: since there is a relationhip the model is good\n",
    "        c: can t say\n",
    "        d: none of those\n",
    "        \n",
    "        b"
   ]
  },
  {
   "cell_type": "markdown",
   "metadata": {},
   "source": [
    "    9: Suppose we have N indipendent variable (x_1, x_2, x_3, ... , x_n) and dependent variable is y imagine we apply linear reggression by fitting the best fit line by using least square error on this data. We found that correlation coefficent for one of its variable, say x_1, with y = 0.95. Which for the follwing is true for x_1?\n",
    "        a: relation between x and y is weak\n",
    "        b: relation between x and y is strong\n",
    "        c: relation between x and y is neutral\n",
    "        d: correlation can not judge the relationship\n",
    "        \n",
    "        Answer: b\n",
    "        a correlation of 0.95 is quite high so x_1 and y are having a strong relationship and behave quite \n",
    "        similar"
   ]
  },
  {
   "cell_type": "markdown",
   "metadata": {},
   "source": [
    "    10: Suppose you have a dataset D1 and you design a linear regression model of degree three polynomial and we found that the training and testing error is 0 or in other words it's perfectly fit the data. What will happen when we fit a linear four degree regression?\n",
    "        a: high chances that degree four will overfit the data\n",
    "        b: high chances that degree four will underfit the data\n",
    "        c: can't say\n",
    "        d: None of those\n",
    "        \n",
    "        a"
   ]
  },
  {
   "cell_type": "markdown",
   "metadata": {},
   "source": []
  }
 ],
 "metadata": {
  "kernelspec": {
   "display_name": "Python [conda env:nf] *",
   "language": "python",
   "name": "conda-env-nf-py"
  },
  "language_info": {
   "codemirror_mode": {
    "name": "ipython",
    "version": 3
   },
   "file_extension": ".py",
   "mimetype": "text/x-python",
   "name": "python",
   "nbconvert_exporter": "python",
   "pygments_lexer": "ipython3",
   "version": "3.6.6"
  }
 },
 "nbformat": 4,
 "nbformat_minor": 2
}
